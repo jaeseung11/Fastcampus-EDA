{
 "cells": [
  {
   "cell_type": "code",
   "execution_count": 1,
   "id": "9782015c",
   "metadata": {},
   "outputs": [
    {
     "name": "stdout",
     "output_type": "stream",
     "text": [
      "Apple SD Gothic Neo\n",
      "/Volumes/GoogleDrive/My Drive/fastcamp/MGS_AI_4/dev/Fastcampus-EDA/cjt\n",
      "\u001b[31mFastcampus_data_after_cleaning.csv\u001b[m\u001b[m\r\n",
      "\u001b[31mcountry.csv\u001b[m\u001b[m\r\n",
      "\u001b[31msakila-data.sql\u001b[m\u001b[m\r\n",
      "\u001b[31msakila-schema.sql\u001b[m\u001b[m\r\n",
      "\u001b[31mworld.sql\u001b[m\u001b[m\r\n",
      "\u001b[31m수업.sql\u001b[m\u001b[m\r\n",
      "\u001b[31m수업2-2.sql\u001b[m\u001b[m\r\n",
      "\u001b[31m수업2.sql\u001b[m\u001b[m\r\n",
      "\u001b[31m데이터분석프로젝트_VER2_210329_210926.xlsx\u001b[m\u001b[m\r\n"
     ]
    },
    {
     "name": "stderr",
     "output_type": "stream",
     "text": [
      "/var/folders/k4/qhbh8yls6h349rdp_mfbt60w0000gn/T/ipykernel_78207/2293192428.py:9: MatplotlibDeprecationWarning: \n",
      "The get_fontconfig_fonts function was deprecated in Matplotlib 3.5 and will be removed two minor releases later.\n",
      "  fm.get_fontconfig_fonts()\n"
     ]
    }
   ],
   "source": [
    "import pandas as pd\n",
    "import matplotlib.pyplot as plt\n",
    "import seaborn as sns\n",
    "import numpy as np\n",
    "from statsmodels.tsa.seasonal import seasonal_decompose\n",
    "# 한글 쓰는 방법\n",
    "import matplotlib\n",
    "import matplotlib.font_manager as fm\n",
    "fm.get_fontconfig_fonts()\n",
    "font_location = \"/System/Library/Fonts/AppleSDGothicNeo.ttc\"\n",
    "font_name = fm.FontProperties(fname=font_location).get_name()\n",
    "print(font_name)\n",
    "matplotlib.rc('font', family=font_name)\n",
    "import os\n",
    "# 현재 working directory 확인 방법\n",
    "print(os.getcwd()) # 주피터에서\n",
    "#pwd # 터미널에서 \n",
    "# 데이터 있는 경로 확인\n",
    "path = \"/Users/jungtaekchoi/Google Drive/My Drive/fastcamp/datas\"\n",
    "# 경로 바꾸는 방법\n",
    "os.chdir(path)\n",
    "# 리스트 목록 확인\n",
    "!ls"
   ]
  },
  {
   "cell_type": "code",
   "execution_count": 2,
   "id": "ee0d0080",
   "metadata": {},
   "outputs": [],
   "source": [
    "df = pd.read_csv(path + \"/Fastcampus_data_after_cleaning.csv\")\n",
    "#df.dropna(inplace = True)"
   ]
  },
  {
   "cell_type": "code",
   "execution_count": null,
   "id": "848a6fe7",
   "metadata": {},
   "outputs": [],
   "source": [
    "df.loc[(df.transaction_amount != df.sale_price) & \n",
    "       (df.coupon_title == \"없음\") &\n",
    "       (df.type == \"PAYMENT\") &\n",
    "       (df.state == \"COMPLETED\"), \"coupon_title\"] = \"차액\" \n",
    "df[\"coupon_discount_amount\"] = df.sale_price.sub(df.transaction_amount) \n",
    "\n",
    "df.drop(df.loc[df.category_title == \"관리\", :].index, inplace = True)\n",
    "df.loc[(df.category_title == \"교육\") &\n",
    "       (df.type == \"PAYMENT\") &\n",
    "       (df.state == \"COMPLETED\"), :].coupon_discount_amount.unique()"
   ]
  },
  {
   "cell_type": "code",
   "execution_count": null,
   "id": "8a0f6616",
   "metadata": {},
   "outputs": [],
   "source": []
  },
  {
   "cell_type": "code",
   "execution_count": null,
   "id": "66430f88",
   "metadata": {},
   "outputs": [],
   "source": [
    "from plotly.subplots import make_subplots\n",
    "import plotly.graph_objects as go\n",
    "\n",
    "def plus_one(series) :\n",
    "    return series + 1\n",
    "\n",
    "def differencing_df(df, sub):\n",
    "    target_series = df.loc[sub,].apply(plus_one)\n",
    "    df = pd.DataFrame({\"매출\" : target_series})\n",
    "    # 차분\n",
    "    df['simple'] = df.diff(1)\n",
    "    # 로그\n",
    "    df['log'] = np.log(df[\"매출\"])\n",
    "    # 로그차분\n",
    "    df['log_diff'] = np.log(df[\"매출\"]).diff(1)\n",
    "    # plot\n",
    "    fig = make_subplots(4,1)\n",
    "    fig.add_trace(go.Scatter(x=df.index, y=df.매출,name = \"매출\"),row=1,col=1)\n",
    "    fig.add_trace(go.Scatter(x=df.index, y=df.simple,name = \"차분값\"), row=2,col=1)\n",
    "    fig.add_trace(go.Scatter(x=df.index, y=df.log,name = \"로그변환\"), row=3,col=1)\n",
    "    fig.add_trace(go.Scatter(x=df.index, y=df.log_diff,name = \"로그 차분\"), row=4,col=1)\n",
    "\n",
    "    fig.update_layout(height=600, width=800, title_text= f\"{sub}\")\n",
    "    fig.show()\n",
    "    "
   ]
  },
  {
   "cell_type": "code",
   "execution_count": null,
   "id": "7f3b0ba7",
   "metadata": {},
   "outputs": [],
   "source": [
    "for sub in sub_name : \n",
    "    differencing_df(ctg_df, sub = sub)"
   ]
  },
  {
   "cell_type": "code",
   "execution_count": 3,
   "id": "aba23b1c",
   "metadata": {},
   "outputs": [],
   "source": [
    "from matplotlib import rc\n",
    "from statsmodels.graphics.tsaplots import plot_acf, plot_pacf\n",
    "\n",
    "def differencing_df2(df, sub):\n",
    "    target_series = df.loc[sub,].apply(plus_one)\n",
    "    df = pd.DataFrame({\"매출\" : target_series})\n",
    "    # 차분\n",
    "    df['simple'] = df.diff(1)\n",
    "    # 로그\n",
    "    df['log'] = np.log(df[\"매출\"])\n",
    "    # 로그차분\n",
    "    df['log_diff'] = np.log(df[\"매출\"]).diff(1)\n",
    "    \n",
    "    # plot\n",
    "    rc('font', family='AppleGothic')\n",
    "    plt.rcParams['axes.unicode_minus'] = False\n",
    "\n",
    "    fig,ax = plt.subplots(4,2, figsize=(12,16))\n",
    "    ax[0,0].plot(df['매출'])\n",
    "    ax[0,0].set_title('매출')\n",
    "    ax[1,0].plot(df['simple'])\n",
    "    ax[1,0].set_title('차분')\n",
    "    ax[2,0].plot(df['log'])\n",
    "    ax[2,0].set_title('로그 변환')\n",
    "    ax[3,0].plot(df['log_diff'])\n",
    "    ax[3,0].set_title('로그 차분')\n",
    "\n",
    "    plot_pacf(df['매출'],ax=ax[0,1])\n",
    "    plot_pacf(df['simple'],ax=ax[1,1])\n",
    "    plot_pacf(df['log'][1:],ax=ax[2,1])\n",
    "    plot_pacf(df['log_diff'][1:],ax=ax[3,1])\n",
    "    \n",
    "    plt.show()\n",
    "    "
   ]
  },
  {
   "cell_type": "code",
   "execution_count": null,
   "id": "6d32aba0",
   "metadata": {},
   "outputs": [],
   "source": [
    "for sub in sub_name : \n",
    "    differencing_df2(ctg_df, sub = sub)"
   ]
  }
 ],
 "metadata": {
  "kernelspec": {
   "display_name": "Python 3 (ipykernel)",
   "language": "python",
   "name": "python3"
  },
  "language_info": {
   "codemirror_mode": {
    "name": "ipython",
    "version": 3
   },
   "file_extension": ".py",
   "mimetype": "text/x-python",
   "name": "python",
   "nbconvert_exporter": "python",
   "pygments_lexer": "ipython3",
   "version": "3.9.12"
  }
 },
 "nbformat": 4,
 "nbformat_minor": 5
}
