{
 "cells": [
  {
   "cell_type": "code",
   "execution_count": null,
   "id": "6651c26c",
   "metadata": {},
   "outputs": [],
   "source": [
    "import pandas as pd\n",
    "import matplotlib.pyplot as plt\n",
    "import seaborn as sns\n",
    "import numpy as np\n",
    "from statsmodels.tsa.seasonal import seasonal_decompose"
   ]
  },
  {
   "cell_type": "code",
   "execution_count": 1,
   "id": "6685fa21",
   "metadata": {},
   "outputs": [
    {
     "ename": "NameError",
     "evalue": "name 'sub_name' is not defined",
     "output_type": "error",
     "traceback": [
      "\u001b[0;31m---------------------------------------------------------------------------\u001b[0m",
      "\u001b[0;31mNameError\u001b[0m                                 Traceback (most recent call last)",
      "Input \u001b[0;32mIn [1]\u001b[0m, in \u001b[0;36m<cell line: 7>\u001b[0;34m()\u001b[0m\n\u001b[1;32m      4\u001b[0m     ax1\u001b[38;5;241m.\u001b[39mset_ylabel(\u001b[38;5;124m'\u001b[39m\u001b[38;5;124mObserved\u001b[39m\u001b[38;5;124m'\u001b[39m)\n\u001b[1;32m      5\u001b[0m     ax1\u001b[38;5;241m.\u001b[39mset_xlabel(category_name)\n\u001b[0;32m----> 7\u001b[0m \u001b[38;5;28;01mfor\u001b[39;00m sub \u001b[38;5;129;01min\u001b[39;00m \u001b[43msub_name\u001b[49m :\n\u001b[1;32m      8\u001b[0m     ctg_df\u001b[38;5;241m.\u001b[39mloc[sub, :]\n\u001b[1;32m      9\u001b[0m     target_df \u001b[38;5;241m=\u001b[39m pd\u001b[38;5;241m.\u001b[39mDataFrame(ctg_df\u001b[38;5;241m.\u001b[39mloc[sub, :])\n",
      "\u001b[0;31mNameError\u001b[0m: name 'sub_name' is not defined"
     ]
    }
   ],
   "source": [
    "def plot_observed(result, category_name) : \n",
    "    fig, ax1 = plt.subplots(1,1, figsize = (15,8))\n",
    "    result.observed.plot(legend = False, ax = ax1)\n",
    "    ax1.set_ylabel('Observed')\n",
    "    ax1.set_xlabel(category_name)\n",
    "    \n",
    "for sub in sub_name :\n",
    "    ctg_df.loc[sub, :]\n",
    "    target_df = pd.DataFrame(ctg_df.loc[sub, :])\n",
    "    try : \n",
    "        target_df.rename(columns = { \"transaction_amount\" : sub}, inplace = True )\n",
    "        plt.rc('axes', unicode_minus=False)\n",
    "        result = seasonal_decompose(target_df[sub], period=30)\n",
    "        plot_observed(result, sub)\n",
    "        plt.tight_layout()\n",
    "        \n",
    "    except ValueError: \n",
    "        print(f\"카테고리 = {sub} : 길이 너무 짧아서 패스\")\n",
    "        continue"
   ]
  },
  {
   "cell_type": "code",
   "execution_count": 2,
   "id": "5b71682a",
   "metadata": {},
   "outputs": [
    {
     "ename": "NameError",
     "evalue": "name 'sub_name' is not defined",
     "output_type": "error",
     "traceback": [
      "\u001b[0;31m---------------------------------------------------------------------------\u001b[0m",
      "\u001b[0;31mNameError\u001b[0m                                 Traceback (most recent call last)",
      "Input \u001b[0;32mIn [2]\u001b[0m, in \u001b[0;36m<cell line: 7>\u001b[0;34m()\u001b[0m\n\u001b[1;32m      4\u001b[0m     ax1\u001b[38;5;241m.\u001b[39mset_ylabel(\u001b[38;5;124m'\u001b[39m\u001b[38;5;124mTrend\u001b[39m\u001b[38;5;124m'\u001b[39m)\n\u001b[1;32m      5\u001b[0m     ax1\u001b[38;5;241m.\u001b[39mset_xlabel(category_name)\n\u001b[0;32m----> 7\u001b[0m \u001b[38;5;28;01mfor\u001b[39;00m sub \u001b[38;5;129;01min\u001b[39;00m \u001b[43msub_name\u001b[49m :\n\u001b[1;32m      8\u001b[0m     ctg_df\u001b[38;5;241m.\u001b[39mloc[sub, :]\n\u001b[1;32m      9\u001b[0m     target_df \u001b[38;5;241m=\u001b[39m pd\u001b[38;5;241m.\u001b[39mDataFrame(ctg_df\u001b[38;5;241m.\u001b[39mloc[sub, :])\n",
      "\u001b[0;31mNameError\u001b[0m: name 'sub_name' is not defined"
     ]
    }
   ],
   "source": [
    "def plot_trend(result, category_name) : \n",
    "    fig, ax1 = plt.subplots(1,1, figsize = (15,8))\n",
    "    result.trend.plot(legend = False, ax = ax1)\n",
    "    ax1.set_ylabel('Trend')\n",
    "    ax1.set_xlabel(category_name)\n",
    "    \n",
    "for sub in sub_name :\n",
    "    ctg_df.loc[sub, :]\n",
    "    target_df = pd.DataFrame(ctg_df.loc[sub, :])\n",
    "    try : \n",
    "        target_df.rename(columns = { \"transaction_amount\" : sub}, inplace = True )\n",
    "        plt.rc('axes', unicode_minus=False)\n",
    "        result = seasonal_decompose(target_df[sub], period=30)\n",
    "        plot_trend(result, sub)\n",
    "        plt.tight_layout()\n",
    "        \n",
    "    except ValueError: \n",
    "        print(f\"카테고리 = {sub} : 길이 너무 짧아서 패스\")\n",
    "        continue"
   ]
  },
  {
   "cell_type": "code",
   "execution_count": 3,
   "id": "858074c7",
   "metadata": {},
   "outputs": [
    {
     "ename": "NameError",
     "evalue": "name 'sub_name' is not defined",
     "output_type": "error",
     "traceback": [
      "\u001b[0;31m---------------------------------------------------------------------------\u001b[0m",
      "\u001b[0;31mNameError\u001b[0m                                 Traceback (most recent call last)",
      "Input \u001b[0;32mIn [3]\u001b[0m, in \u001b[0;36m<cell line: 7>\u001b[0;34m()\u001b[0m\n\u001b[1;32m      4\u001b[0m     ax1\u001b[38;5;241m.\u001b[39mset_ylabel(\u001b[38;5;124m'\u001b[39m\u001b[38;5;124mSeasonal\u001b[39m\u001b[38;5;124m'\u001b[39m)\n\u001b[1;32m      5\u001b[0m     ax1\u001b[38;5;241m.\u001b[39mset_xlabel(category_name)\n\u001b[0;32m----> 7\u001b[0m \u001b[38;5;28;01mfor\u001b[39;00m sub \u001b[38;5;129;01min\u001b[39;00m \u001b[43msub_name\u001b[49m :\n\u001b[1;32m      8\u001b[0m     ctg_df\u001b[38;5;241m.\u001b[39mloc[sub, :]\n\u001b[1;32m      9\u001b[0m     target_df \u001b[38;5;241m=\u001b[39m pd\u001b[38;5;241m.\u001b[39mDataFrame(ctg_df\u001b[38;5;241m.\u001b[39mloc[sub, :])\n",
      "\u001b[0;31mNameError\u001b[0m: name 'sub_name' is not defined"
     ]
    }
   ],
   "source": [
    "def plot_seasonal(result, category_name) : \n",
    "    fig, ax1 = plt.subplots(1,1, figsize = (15,8))\n",
    "    result.seasonal.plot(legend = False, ax = ax1)\n",
    "    ax1.set_ylabel('Seasonal')\n",
    "    ax1.set_xlabel(category_name)\n",
    "\n",
    "for sub in sub_name :\n",
    "    ctg_df.loc[sub, :]\n",
    "    target_df = pd.DataFrame(ctg_df.loc[sub, :])\n",
    "    try : \n",
    "        target_df.rename(columns = { \"transaction_amount\" : sub}, inplace = True )\n",
    "        plt.rc('axes', unicode_minus=False)\n",
    "        result = seasonal_decompose(target_df[sub], period=30)\n",
    "        plot_seasonal(result, sub)\n",
    "        plt.tight_layout()\n",
    "        \n",
    "    except ValueError: \n",
    "        print(f\"카테고리 = {sub} : 길이 너무 짧아서 패스\")\n",
    "        continue"
   ]
  },
  {
   "cell_type": "code",
   "execution_count": 4,
   "id": "d31d9f90",
   "metadata": {},
   "outputs": [
    {
     "ename": "NameError",
     "evalue": "name 'sub_name' is not defined",
     "output_type": "error",
     "traceback": [
      "\u001b[0;31m---------------------------------------------------------------------------\u001b[0m",
      "\u001b[0;31mNameError\u001b[0m                                 Traceback (most recent call last)",
      "Input \u001b[0;32mIn [4]\u001b[0m, in \u001b[0;36m<cell line: 7>\u001b[0;34m()\u001b[0m\n\u001b[1;32m      4\u001b[0m     ax1\u001b[38;5;241m.\u001b[39mset_ylabel(\u001b[38;5;124m'\u001b[39m\u001b[38;5;124mResidual\u001b[39m\u001b[38;5;124m'\u001b[39m)\n\u001b[1;32m      5\u001b[0m     ax1\u001b[38;5;241m.\u001b[39mset_xlabel(category_name)\n\u001b[0;32m----> 7\u001b[0m \u001b[38;5;28;01mfor\u001b[39;00m sub \u001b[38;5;129;01min\u001b[39;00m \u001b[43msub_name\u001b[49m :\n\u001b[1;32m      8\u001b[0m     ctg_df\u001b[38;5;241m.\u001b[39mloc[sub, :]\n\u001b[1;32m      9\u001b[0m     target_df \u001b[38;5;241m=\u001b[39m pd\u001b[38;5;241m.\u001b[39mDataFrame(ctg_df\u001b[38;5;241m.\u001b[39mloc[sub, :])\n",
      "\u001b[0;31mNameError\u001b[0m: name 'sub_name' is not defined"
     ]
    }
   ],
   "source": [
    "def plot_resid(result, category_name) : \n",
    "    fig, ax1 = plt.subplots(1,1, figsize = (15,8))\n",
    "    result.resid.plot(legend = False, ax = ax1)\n",
    "    ax1.set_ylabel('Residual')\n",
    "    ax1.set_xlabel(category_name)\n",
    "\n",
    "for sub in sub_name :\n",
    "    ctg_df.loc[sub, :]\n",
    "    target_df = pd.DataFrame(ctg_df.loc[sub, :])\n",
    "    try : \n",
    "        target_df.rename(columns = { \"transaction_amount\" : sub}, inplace = True )\n",
    "        plt.rc('axes', unicode_minus=False)\n",
    "        result = seasonal_decompose(target_df[sub], period=30)\n",
    "        plot_resid(result, sub)\n",
    "        plt.tight_layout()\n",
    "        \n",
    "    except ValueError: \n",
    "        print(f\"카테고리 = {sub} : 길이 너무 짧아서 패스\")\n",
    "        continue"
   ]
  },
  {
   "cell_type": "code",
   "execution_count": null,
   "id": "ab1b5586",
   "metadata": {},
   "outputs": [],
   "source": [
    "def plot_all_decompose(result, category_name) : \n",
    "    fig, (ax1, ax2, ax3, ax4) = plt.subplots(4,1, figsize = (15,8))\n",
    "    result.observed.plot(legend = False, ax = ax1)\n",
    "    ax1.set_ylabel('Observed')\n",
    "    ax1.set_xlabel(category_name)\n",
    "    \n",
    "    result.trend.plot(legend = False, ax = ax2)\n",
    "    ax2.set_ylabel('Trend')\n",
    "    ax1.set_xlabel(category_name)\n",
    "    \n",
    "    result.seasonal.plot(legend = False, ax = ax3)\n",
    "    ax3.set_ylabel('Seasonal')\n",
    "    ax1.set_xlabel(category_name)\n",
    "    \n",
    "    result.resid.plot(legend = False, ax = ax4)\n",
    "    ax4.set_ylabel('Residual')\n",
    "    ax1.set_xlabel(category_name)\n",
    "\n",
    "for sub in sub_name :\n",
    "    ctg_df.loc[sub, :]\n",
    "    target_df = pd.DataFrame(ctg_df.loc[sub, :])\n",
    "    try : \n",
    "        target_df.rename(columns = { \"transaction_amount\" : sub}, inplace = True )\n",
    "        plt.rc('axes', unicode_minus=False)\n",
    "        result = seasonal_decompose(target_df[sub], period=30)\n",
    "        plot_decompose(result, sub)\n",
    "        plt.tight_layout()\n",
    "        \n",
    "    except ValueError: \n",
    "        print(f\"카테고리 = {sub} : 길이 너무 짧아서 패스\")\n",
    "        continue"
   ]
  },
  {
   "cell_type": "code",
   "execution_count": null,
   "id": "243ce2c4",
   "metadata": {},
   "outputs": [],
   "source": []
  }
 ],
 "metadata": {
  "kernelspec": {
   "display_name": "Python 3 (ipykernel)",
   "language": "python",
   "name": "python3"
  },
  "language_info": {
   "codemirror_mode": {
    "name": "ipython",
    "version": 3
   },
   "file_extension": ".py",
   "mimetype": "text/x-python",
   "name": "python",
   "nbconvert_exporter": "python",
   "pygments_lexer": "ipython3",
   "version": "3.9.12"
  }
 },
 "nbformat": 4,
 "nbformat_minor": 5
}
